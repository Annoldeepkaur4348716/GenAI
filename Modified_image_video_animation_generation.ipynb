{
  "nbformat": 4,
  "nbformat_minor": 0,
  "metadata": {
    "colab": {
      "provenance": [],
      "include_colab_link": true
    },
    "kernelspec": {
      "name": "python3",
      "display_name": "Python 3"
    },
    "language_info": {
      "name": "python"
    }
  },
  "cells": [
    {
      "cell_type": "markdown",
      "metadata": {
        "id": "view-in-github",
        "colab_type": "text"
      },
      "source": [
        "<a href=\"https://colab.research.google.com/github/MandeepKaur1914/GenAI/blob/main/Modified_image_video_animation_generation.ipynb\" target=\"_parent\"><img src=\"https://colab.research.google.com/assets/colab-badge.svg\" alt=\"Open In Colab\"/></a>"
      ]
    },
    {
      "cell_type": "markdown",
      "source": [
        "# **Title** : **Image and GIF Generative AI based on Replicate**\n",
        "\n",
        "# **Brief description of the Project scope :**\n",
        "\n",
        "The project aims to develop a GenAI GIF and Image Generator using the Replicate library. Leveraging advanced language models, it will generate creative and diverse visual content based on textual prompts, providing a dynamic tool for content creation and expression.\n",
        "\n",
        "\n",
        "\n"
      ],
      "metadata": {
        "id": "ZWRrPYjU-FnH"
      }
    },
    {
      "cell_type": "markdown",
      "source": [
        "# **Group Members :**\n",
        "\n",
        "\n",
        "* Mandeep Kaur - 4348243\n",
        "\n",
        "\n",
        "* Anmoldeep kaur - 4348716\n",
        "\n"
      ],
      "metadata": {
        "id": "8ugcCz4l9POS"
      }
    },
    {
      "cell_type": "markdown",
      "source": [
        "# **Detailed Project Description**\n",
        "\n",
        "\n",
        "This project involves creating a dynamic GenAI GIF and Image Generator utilizing the Replicate library. Employing advanced language models, it will interpret textual prompts to produce diverse and creative visual content, offering a versatile platform for personalized image and GIF creation.\n",
        "\n",
        "\n",
        "\n",
        "\n",
        "## **OBJECTIVES** :\n",
        "1. Implement GenAI GIF and Image Generator using the Replicate library.\n",
        "2. Utilize advanced language models for interpreting textual prompts.\n",
        "3. Generate diverse and creative visual content based on input.\n",
        "4. Ensure user-friendliness, scalability, and seamless integration.\n",
        "5. Enable users to express themselves through unique images and GIFs.\n",
        "6. Establish evaluation metrics to assess model performance and project success.\n",
        "\n",
        "\n",
        "\n",
        "\n",
        "\n",
        "## **OUTCOMES**\n",
        "\n",
        "1. Creation of a dynamic content generator using Replicate for GIFs and Images.\n",
        "2. User access to diverse and creative visuals through textual prompts.\n",
        "3. Implementation of seamless integration and user-friendly interfaces.\n",
        "4. Scalability to accommodate varying user demands and content complexities.\n",
        "5. Empowerment of users for effortless production of personalized images and GIFs.\n",
        "6. Evaluation metrics to measure the success of model performance.\n",
        "7. Aim for a satisfying and innovative user experience.\n",
        "\n",
        "\n",
        "\n",
        "\n",
        "\n",
        "\n",
        "\n",
        "\n",
        "\n"
      ],
      "metadata": {
        "id": "SJNvsyvv-jM1"
      }
    },
    {
      "cell_type": "markdown",
      "source": [
        "# **Modification/New Addition Specification**\n",
        "\n",
        "- The modifications to the GenAI GIF and Image Generator using Replicate involve refining the language models for enhanced interpretation of textual prompts, resulting in more diverse and nuanced visual outputs.\n",
        "-  User interfaces are revamped for greater accessibility and an improved creative experience. Integration capabilities are strengthened, accommodating diverse platforms seamlessly.\n",
        "-  Additionally, an emphasis on scalability allows for efficient handling of increased demand and complex content generation.\n",
        "-  These enhancements collectively elevate the generator, providing users with an even more dynamic and user-friendly content creation tool.\n",
        "\n",
        "## **Justification And Impact**\n",
        "\n",
        "The modifications to the GenAI GIF and Image Generator using Replicate are crucial for several reasons. Enhanced language models ensure a more nuanced interpretation, elevating the diversity and creativity of generated content. Improved user interfaces amplify accessibility and the overall user experience, fostering greater user engagement. Strengthened integration and scalability enhance the generator's adaptability to varying demands, contributing to its practicality and efficiency. These modifications collectively amplify the tool's impact, making it a more versatile and user-centric platform for dynamic content creation.\n",
        "\n",
        "\n"
      ],
      "metadata": {
        "id": "DDwC-cRK2C_x"
      }
    },
    {
      "cell_type": "markdown",
      "source": [
        "# **Criteria-Specific Cell**\n",
        "\n",
        "## **Image and GIF GenAI using Replicate Relevance :**\n",
        "\n",
        "- The GenAI GIF and Image Generator using Replicate holds profound relevance in modern digital communication.\n",
        "- It empowers users to effortlessly create personalized, visually engaging content, aligning with the increasing demand for dynamic and expressive communication.\n",
        "- As visuals play a pivotal role in online interactions, this tool's ability to generate diverse and creative images and GIFs ensures its significance in enhancing user expression across social media, marketing, and creative endeavors, contributing to a more vibrant and engaging digital landscape.content creation.\n",
        "\n",
        "##**Application**\n",
        "+ In artistic endeavors, it empowers creators to generate unique visual content, fostering innovation.\n",
        "+ In multimedia production, the tool enhances storytelling through dynamic and customized imagery. Its adaptability finds utility in design, enabling the creation of personalized graphics.\n",
        "+ Furthermore, the integration of cloud-based services facilitates widespread accessibility and collaboration.\n",
        "+ This AI application serves as a versatile and indispensable resource for individuals and industries seeking advanced solutions for creative content generation and digital media production.\n",
        "\n",
        "## **Innovation**\n",
        "\n",
        "\n",
        "\n",
        "- In marketing, it enables the creation of dynamic and customized visual content for engaging campaigns.\n",
        "-  In social media, users can express themselves uniquely with personalized GIFs and images.\n",
        "-  Educational platforms can benefit from interactive and visually compelling learning materials.\n",
        "-  Additionally, it holds potential in art and design, automating creative processes.\n",
        "-  The tool's versatility makes it applicable in various domains, revolutionizing content creation and communication in the digital era.\n",
        "\n",
        "## **Technical proficiency**\n",
        "\n",
        "- The GenAI GIF and Image Generator, powered by Replicate, showcases exceptional technical proficiency.\n",
        "- Leveraging advanced language models, it accurately interprets textual prompts, generating diverse and high-quality visual outputs.\n",
        "-  The seamless integration and user-friendly interfaces demonstrate a sophisticated understanding of user needs.\n",
        "- Scalability features ensure efficient performance even under increased demand.\n",
        "-   Its robust evaluation metrics showcase a commitment to continuous improvement."
      ],
      "metadata": {
        "id": "6cfvQgVYFl6W"
      }
    },
    {
      "cell_type": "markdown",
      "source": [
        "# **1.Installing the Replicate library to enable a smooth project environment integration.**\n",
        "\n",
        "The provided code installs the \"Replicate\" library using the pip package manager. It is a concise and efficient way to add Replicate to the Python environment, allowing users to access its functionalities seamlessly.\n"
      ],
      "metadata": {
        "id": "vKzL0U3a6wlx"
      }
    },
    {
      "cell_type": "code",
      "execution_count": 1,
      "metadata": {
        "colab": {
          "base_uri": "https://localhost:8080/"
        },
        "id": "CjlbJnxO2w-h",
        "outputId": "133aa423-f8ce-4056-f1c8-b730be4671b0"
      },
      "outputs": [
        {
          "output_type": "stream",
          "name": "stdout",
          "text": [
            "Collecting replicate\n",
            "  Downloading replicate-0.21.0-py3-none-any.whl (34 kB)\n",
            "Collecting httpx<1,>=0.21.0 (from replicate)\n",
            "  Downloading httpx-0.25.2-py3-none-any.whl (74 kB)\n",
            "\u001b[2K     \u001b[90m━━━━━━━━━━━━━━━━━━━━━━━━━━━━━━━━━━━━━━━━\u001b[0m \u001b[32m75.0/75.0 kB\u001b[0m \u001b[31m3.7 MB/s\u001b[0m eta \u001b[36m0:00:00\u001b[0m\n",
            "\u001b[?25hRequirement already satisfied: packaging in /usr/local/lib/python3.10/dist-packages (from replicate) (23.2)\n",
            "Requirement already satisfied: pydantic>1 in /usr/local/lib/python3.10/dist-packages (from replicate) (1.10.13)\n",
            "Requirement already satisfied: typing-extensions>=4.5.0 in /usr/local/lib/python3.10/dist-packages (from replicate) (4.5.0)\n",
            "Requirement already satisfied: anyio in /usr/local/lib/python3.10/dist-packages (from httpx<1,>=0.21.0->replicate) (3.7.1)\n",
            "Requirement already satisfied: certifi in /usr/local/lib/python3.10/dist-packages (from httpx<1,>=0.21.0->replicate) (2023.11.17)\n",
            "Collecting httpcore==1.* (from httpx<1,>=0.21.0->replicate)\n",
            "  Downloading httpcore-1.0.2-py3-none-any.whl (76 kB)\n",
            "\u001b[2K     \u001b[90m━━━━━━━━━━━━━━━━━━━━━━━━━━━━━━━━━━━━━━━━\u001b[0m \u001b[32m76.9/76.9 kB\u001b[0m \u001b[31m12.5 MB/s\u001b[0m eta \u001b[36m0:00:00\u001b[0m\n",
            "\u001b[?25hRequirement already satisfied: idna in /usr/local/lib/python3.10/dist-packages (from httpx<1,>=0.21.0->replicate) (3.6)\n",
            "Requirement already satisfied: sniffio in /usr/local/lib/python3.10/dist-packages (from httpx<1,>=0.21.0->replicate) (1.3.0)\n",
            "Collecting h11<0.15,>=0.13 (from httpcore==1.*->httpx<1,>=0.21.0->replicate)\n",
            "  Downloading h11-0.14.0-py3-none-any.whl (58 kB)\n",
            "\u001b[2K     \u001b[90m━━━━━━━━━━━━━━━━━━━━━━━━━━━━━━━━━━━━━━━━\u001b[0m \u001b[32m58.3/58.3 kB\u001b[0m \u001b[31m9.8 MB/s\u001b[0m eta \u001b[36m0:00:00\u001b[0m\n",
            "\u001b[?25hRequirement already satisfied: exceptiongroup in /usr/local/lib/python3.10/dist-packages (from anyio->httpx<1,>=0.21.0->replicate) (1.2.0)\n",
            "Installing collected packages: h11, httpcore, httpx, replicate\n",
            "Successfully installed h11-0.14.0 httpcore-1.0.2 httpx-0.25.2 replicate-0.21.0\n"
          ]
        }
      ],
      "source": [
        "# @title Install Replicate\n",
        "!pip install replicate\n"
      ]
    },
    {
      "cell_type": "markdown",
      "source": [
        "# **2.Granting the environment a Replicate API token for safe access, allowing the incorporation of cutting-edge AI features.**\n",
        "\n",
        "This code snippet sets the Replicate API token for authentication. The provided API key is assigned to the environment variable \"REPLICATE_API_TOKEN,\" allowing secure access to Replicate services. Users can obtain their API key from Replicate's website for authentication purposes.\n",
        "\n"
      ],
      "metadata": {
        "id": "-EtGiSrD69zX"
      }
    },
    {
      "cell_type": "code",
      "source": [
        "API = \"r8_cQV3aCbW8LBtJNxY1keJwahp4DApeQ60QtV27\"\n",
        "import os\n",
        "\n",
        "os.environ[\"REPLICATE_API_TOKEN\"] = API #find it here: https://replicate.com/signin?next=/account/api-tokens\n"
      ],
      "metadata": {
        "id": "zX0YyZI_3dx6"
      },
      "execution_count": 4,
      "outputs": []
    },
    {
      "cell_type": "markdown",
      "source": [
        "# **3.Utilizing the stable-diffusion model in Replicate to create a picture in response to the command \"a sleeping cat with closed eyes\"**\n",
        "\n",
        "\n",
        "This code employs the Replicate library to generate an image based on the prompt \"a sleeping cat with closed eyes.\"\n",
        "\n",
        "It utilizes the specified model (stability-ai/stable-diffusion) to produce visual content, showcasing the capability of Replicate in creative image generation."
      ],
      "metadata": {
        "id": "sH5YFxFX7NVP"
      }
    },
    {
      "cell_type": "code",
      "source": [
        "# @title Generate Image\n",
        "prompt = \"a sleeping cat with closed eyes\"\n",
        "import replicate\n",
        "\n",
        "output = replicate.run(\n",
        "  \"stability-ai/stable-diffusion:27b93a2413e7f36cd83da926f3656280b2931564ff050bf9575f1fdf9bcd7478\",\n",
        "  input={\"prompt\":prompt}\n",
        ")\n",
        "\n",
        "output"
      ],
      "metadata": {
        "colab": {
          "base_uri": "https://localhost:8080/"
        },
        "id": "b9jB54-K3p48",
        "outputId": "fe2eab4d-b834-424d-8464-569c09270e60"
      },
      "execution_count": 5,
      "outputs": [
        {
          "output_type": "execute_result",
          "data": {
            "text/plain": [
              "['https://replicate.delivery/pbxt/4CL5xUcSG8Z5PNRSGj9GgbyMQfyQVr74D1DFDLiwinIawQfRA/out-0.png']"
            ]
          },
          "metadata": {},
          "execution_count": 5
        }
      ]
    },
    {
      "cell_type": "markdown",
      "source": [
        "# **4.Using the picture class in IPython to display a Replicate-generated picture in Jupyter Notebook for visual analysis.**\n",
        "\n",
        "\n",
        "This code, using IPython, displays the generated image stored in the variable `output_image`. It utilizes the `Image` function to present the result visually, offering a convenient way to showcase the output of the Replicate image generation process within the Jupyter Notebook environment.\n",
        "\n"
      ],
      "metadata": {
        "id": "kw6QYycd7SVR"
      }
    },
    {
      "cell_type": "code",
      "source": [
        "\n",
        "from IPython.display import Image\n",
        "output_image = output\n",
        "Image(url=output_image[0])"
      ],
      "metadata": {
        "colab": {
          "base_uri": "https://localhost:8080/",
          "height": 534
        },
        "id": "7JWCVDHf3sYu",
        "outputId": "9bf7de33-1b8f-4b88-dc7e-cc8796d970ee"
      },
      "execution_count": 6,
      "outputs": [
        {
          "output_type": "execute_result",
          "data": {
            "text/html": [
              "<img src=\"https://replicate.delivery/pbxt/4CL5xUcSG8Z5PNRSGj9GgbyMQfyQVr74D1DFDLiwinIawQfRA/out-0.png\"/>"
            ],
            "text/plain": [
              "<IPython.core.display.Image object>"
            ]
          },
          "metadata": {},
          "execution_count": 6
        }
      ]
    },
    {
      "cell_type": "markdown",
      "source": [
        "# **5.Makes use of replicate to build a dynamic gif animation that changes from \"a sleeping cat with closed eyes\" to \"a woke up cat opened eyes and yawning,\"**\n",
        "\n",
        "This code snippet utilizes the Replicate library to generate a GIF or animation.\n",
        "\n",
        "It employs the \"andreasjansson/stable-diffusion-animation\" model, transitioning from a prompt about a sleeping cat to one depicting an awakened cat with eyes open and yawning, creating a dynamic visual output."
      ],
      "metadata": {
        "id": "U4dvFuOo7oxG"
      }
    },
    {
      "cell_type": "code",
      "source": [
        "# @title Video/gif/animation/Generation\n",
        "import replicate\n",
        "\n",
        "output = replicate.run(\n",
        "    \"andreasjansson/stable-diffusion-animation:ca1f5e306e5721e19c473e0d094e6603f0456fe759c10715fcd6c1b79242d4a5\",\n",
        "    input={\n",
        "        \"prompt_start\": \"a sleeping cat with closed eyes\",\n",
        "        \"prompt_end\": \"a woke up cat opened eyes and yawning\",\n",
        "        \"output_format\": \"gif\",\n",
        "        \"gif_ping_pong\": True\n",
        "    }\n",
        ")\n",
        "\n",
        "output\n"
      ],
      "metadata": {
        "colab": {
          "base_uri": "https://localhost:8080/"
        },
        "id": "6Owfxz0V3uov",
        "outputId": "80798719-9b69-4036-d273-8b2dba0ec0e1"
      },
      "execution_count": 7,
      "outputs": [
        {
          "output_type": "execute_result",
          "data": {
            "text/plain": [
              "<generator object Prediction.output_iterator at 0x7ef91d272960>"
            ]
          },
          "metadata": {},
          "execution_count": 7
        }
      ]
    },
    {
      "cell_type": "markdown",
      "source": [
        "# **6.This code iterates through the output items, printing information about each.**\n",
        "This function goes through the output items one by one, accessing and publishing each element's details, making reference to data or metadata associated with the created animation. Further information on the output schema is available via the provided link.\n"
      ],
      "metadata": {
        "id": "5G1iqzb-76Jo"
      }
    },
    {
      "cell_type": "code",
      "source": [
        "# @title generate video\n",
        "for item in output:\n",
        "     #https://replicate.com/andreasjansson/stable-diffusion-animation/versions/ca1f5e306e5721e19c473e0d094e6603f0456fe759c10715fcd6c1b79242d4a5/api#output-schema\n",
        "    print(item)"
      ],
      "metadata": {
        "colab": {
          "base_uri": "https://localhost:8080/"
        },
        "id": "1bkyp74E3wcl",
        "outputId": "2399e606-1d57-45ac-f182-831fc44992a8"
      },
      "execution_count": 8,
      "outputs": [
        {
          "output_type": "stream",
          "name": "stdout",
          "text": [
            "https://replicate.delivery/pbxt/2hqVw2KAXbpyOtJGHBZilpYGG0tcRqcZi73oUm7Ud6lyZofIA/video.gif\n"
          ]
        }
      ]
    },
    {
      "cell_type": "markdown",
      "source": [
        "# **7.This code defines a variable `gif_url` to store the generated video's URL in a Colab environment.**\n",
        "This code snippet sets a variable, gif_url, to store the URL of the generated video in a Colab environment. It facilitates access to the video for further usage or sharing within the Colab notebook.\n",
        "\n"
      ],
      "metadata": {
        "id": "WK4etb_78Jq2"
      }
    },
    {
      "cell_type": "code",
      "source": [
        "\n",
        "# @title get the video on colab\n",
        "gif_url= item[0:len(item)]"
      ],
      "metadata": {
        "id": "exOI3-Rd3yn8"
      },
      "execution_count": 9,
      "outputs": []
    },
    {
      "cell_type": "markdown",
      "source": [
        "# **8.This code fetches and displays a GIF using the provided URL, saving it locally in Colab for further use.**\n",
        "\n",
        "Additionally, it saves the video as \"gif_output.gif\" within the Colab environment and opens the saved GIF using the PIL library. If the fetch operation fails, an appropriate message is printed."
      ],
      "metadata": {
        "id": "0J2u0K738Mk1"
      }
    },
    {
      "cell_type": "code",
      "source": [
        "# @title Show the video\n",
        "import requests\n",
        "from IPython.display import display, Image\n",
        "from PIL import Image as PILImage\n",
        "from io import BytesIO\n",
        "response = requests.get(gif_url)\n",
        "if response.status_code == 200:\n",
        "    # To Ddisplay the GIF in the notebook\n",
        "    display(Image(url=gif_url))\n",
        "\n",
        "    # To save the GIF in the Colab environment\n",
        "    with open(\"gif_output.gif\", \"wb\") as f:\n",
        "        f.write(response.content)\n",
        "\n",
        "    # TO show a saved GIF using PIL\n",
        "    saved_gif = PILImage.open(\"gif_output.gif\")\n",
        "    saved_gif.show()\n",
        "else:\n",
        "    print(\"Failed to fetch GIF\")\n"
      ],
      "metadata": {
        "colab": {
          "base_uri": "https://localhost:8080/",
          "height": 534
        },
        "id": "whx-a5Ne319x",
        "outputId": "12015c97-1a47-481e-bf8f-69ba76226d63"
      },
      "execution_count": 10,
      "outputs": [
        {
          "output_type": "display_data",
          "data": {
            "text/html": [
              "<img src=\"https://replicate.delivery/pbxt/2hqVw2KAXbpyOtJGHBZilpYGG0tcRqcZi73oUm7Ud6lyZofIA/video.gif\"/>"
            ],
            "text/plain": [
              "<IPython.core.display.Image object>"
            ]
          },
          "metadata": {}
        }
      ]
    },
    {
      "cell_type": "markdown",
      "source": [
        "# **REFERENCES**\n",
        "\n",
        "* The Python Standard Library. https://docs.python.org/3/library/index.html\n",
        "\n",
        "*  Replicate https://replicate.com/account/api-tokens\n",
        "\n",
        "\n",
        "* Google Colab. https://colab.google/\n",
        "\n",
        "* Turna GitHub - turna1/GenAI: Here, we focus on educating and enlightening the community about various Generative AI models through hands-on coding tutorials and informative articles. GitHub. https://github.com/turna1/GenAI"
      ],
      "metadata": {
        "id": "gdi6nuQbG9U6"
      }
    },
    {
      "cell_type": "markdown",
      "source": [
        "\n",
        "# **VIDEO PRESENTATION LINK**"
      ],
      "metadata": {
        "id": "NnHs-jd0HCvd"
      }
    },
    {
      "cell_type": "markdown",
      "source": [
        "\n",
        "# **Thank You**\n",
        "\n"
      ],
      "metadata": {
        "id": "HyYFTY6SLLok"
      }
    }
  ]
}